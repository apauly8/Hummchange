{
 "cells": [
  {
   "cell_type": "markdown",
   "id": "6bf3f027-3817-4333-bc97-951fd6075952",
   "metadata": {},
   "source": [
    "Data Science Tools and Ecosystem"
   ]
  },
  {
   "cell_type": "markdown",
   "id": "e9536e80-b8c4-41fd-bfe0-3017100eaebe",
   "metadata": {},
   "source": [
    "In this notebook, Data Science Tools and Ecosystem are summarized."
   ]
  },
  {
   "cell_type": "markdown",
   "id": "400c5b78-255c-4896-81ab-3bd22fdcd349",
   "metadata": {},
   "source": [
    "Some of the popular languages that Data Scientists use are:\n",
    "1. Python\n",
    "2. R\n",
    "3. SQL"
   ]
  },
  {
   "cell_type": "markdown",
   "id": "e8cf4224-dfaf-46b8-ba0b-a0050f037e16",
   "metadata": {},
   "source": [
    "Some of the commonly used libraries used by Data Scientists include:\n",
    "1. NumPy\n",
    "2. Pandas\n",
    "3. Matplotlib"
   ]
  },
  {
   "cell_type": "markdown",
   "id": "4a01ed5d-6656-418a-9951-f7822f191c11",
   "metadata": {},
   "source": [
    "Data Science Tools"
   ]
  },
  {
   "cell_type": "markdown",
   "id": "005e2827-eec4-47bf-b949-b430ee4c2b1a",
   "metadata": {},
   "source": [
    "#Execute as a Markdown cell\n",
    "| Data Science Tools |\n",
    "| -------------| \n",
    "| Apache Spark | \n",
    "| Apache Hadoop| \n",
    "| TensorFlow | "
   ]
  },
  {
   "cell_type": "markdown",
   "id": "4f98f620-44d1-463e-9e80-6fe0fdc7b79c",
   "metadata": {},
   "source": [
    "Below are a few examples of evaluating arithmetic expressions in Python"
   ]
  },
  {
   "cell_type": "markdown",
   "id": "3b5f6805-c2f2-4371-b998-18167a548bbc",
   "metadata": {},
   "source": [
    "#Define two numbers\n",
    "a=2 \n",
    "b=3"
   ]
  },
  {
   "cell_type": "code",
   "execution_count": 28,
   "id": "f6538905-da38-4d8e-a32d-8f4f9ba814d6",
   "metadata": {},
   "outputs": [
    {
     "data": {
      "text/plain": [
       "5"
      ]
     },
     "execution_count": 28,
     "metadata": {},
     "output_type": "execute_result"
    }
   ],
   "source": [
    "a+b"
   ]
  },
  {
   "cell_type": "markdown",
   "id": "b8c3e2f0-32fb-48b4-854d-ad18c6969fa4",
   "metadata": {},
   "source": [
    "This a simple arithmetic expression to mutiply then add integers"
   ]
  },
  {
   "cell_type": "code",
   "execution_count": 27,
   "id": "2650ce87-4042-4fba-8c72-c8526b2ea383",
   "metadata": {},
   "outputs": [
    {
     "data": {
      "text/plain": [
       "17"
      ]
     },
     "execution_count": 27,
     "metadata": {},
     "output_type": "execute_result"
    }
   ],
   "source": [
    "(3*4)+5"
   ]
  },
  {
   "cell_type": "markdown",
   "id": "fd1fdc66-1c60-494a-b54a-1f35d3c85776",
   "metadata": {},
   "source": [
    "This will convert 200 minutes to hours by diving by 60"
   ]
  },
  {
   "cell_type": "code",
   "execution_count": 29,
   "id": "4dcda879-6c7a-445d-8b62-7206a0cf2b3b",
   "metadata": {},
   "outputs": [
    {
     "data": {
      "text/plain": [
       "3.3333333333333335"
      ]
     },
     "execution_count": 29,
     "metadata": {},
     "output_type": "execute_result"
    }
   ],
   "source": [
    "minutes = 200\n",
    "hours = minutes / 60\n",
    "hours"
   ]
  },
  {
   "cell_type": "markdown",
   "id": "48aea987-0574-478d-a686-555691cf79ff",
   "metadata": {},
   "source": [
    "**Objectives:**\n",
    "- Understand how to create a markdown cell introducing arithmetic expression examples\n",
    "- Learn to write expressions and comments in code cells.\n",
    "- List popular languages for Data Science"
   ]
  },
  {
   "cell_type": "markdown",
   "id": "b6f8ca45-da51-409e-8b66-329029165ec4",
   "metadata": {},
   "source": [
    "## Author\n",
    "Andrew Paul"
   ]
  },
  {
   "cell_type": "code",
   "execution_count": null,
   "id": "4435a766-4040-4d3c-a7e7-4c9498c8f488",
   "metadata": {},
   "outputs": [],
   "source": []
  }
 ],
 "metadata": {
  "kernelspec": {
   "display_name": "Python 3 (ipykernel)",
   "language": "python",
   "name": "python3"
  },
  "language_info": {
   "codemirror_mode": {
    "name": "ipython",
    "version": 3
   },
   "file_extension": ".py",
   "mimetype": "text/x-python",
   "name": "python",
   "nbconvert_exporter": "python",
   "pygments_lexer": "ipython3",
   "version": "3.12.4"
  }
 },
 "nbformat": 4,
 "nbformat_minor": 5
}
